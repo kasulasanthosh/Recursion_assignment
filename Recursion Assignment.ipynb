{
 "cells": [
  {
   "cell_type": "code",
   "execution_count": 8,
   "id": "b2737ffc-8808-49b6-b791-bc01ff38b7e9",
   "metadata": {},
   "outputs": [
    {
     "name": "stdout",
     "output_type": "stream",
     "text": [
      "Move disk 1 from source A to destination C\n",
      "Move disk 2 from source A to destination B\n",
      "Move disk 1 from source C to destination B\n",
      "Move disk 3 from source A to destination C\n",
      "Move disk 1 from source B to destination A\n",
      "Move disk 2 from source B to destination C\n",
      "Move disk 1 from source A to destination C\n",
      "Move disk 4 from source A to destination B\n",
      "Move disk 1 from source C to destination B\n",
      "Move disk 2 from source C to destination A\n",
      "Move disk 1 from source B to destination A\n",
      "Move disk 3 from source C to destination B\n",
      "Move disk 1 from source A to destination C\n",
      "Move disk 2 from source A to destination B\n",
      "Move disk 1 from source C to destination B\n"
     ]
    }
   ],
   "source": [
    "# 1. Can you explain the logic and working of the Tower of Hanoi algorithm by writing a Java program? How does the recursion work, and how are the movements of disks between rods accomplished?\n",
    "def TowerOfHanoi(n,source,destination,auxilary):\n",
    "    if n==1:\n",
    "        print(\"Move disk 1 from source\",source,\"to destination\",destination)\n",
    "        return\n",
    "    TowerOfHanoi(n-1,source,auxilary,destination)\n",
    "    print (\"Move disk\",n,\"from source\",source,\"to destination\",destination)\n",
    "    TowerOfHanoi(n-1, auxilary, destination, source)\n",
    "# Driver code\n",
    "n = 4\n",
    "TowerOfHanoi(n,'A','B','C') # A,B,C are the name of rods"
   ]
  },
  {
   "cell_type": "code",
   "execution_count": 22,
   "id": "59c9f514-41c2-4eef-8715-bc2d6486f90d",
   "metadata": {},
   "outputs": [
    {
     "name": "stdout",
     "output_type": "stream",
     "text": [
      "5\n",
      "3\n"
     ]
    }
   ],
   "source": [
    "# Q.2 Given two strings word1 and word2, return the minimum number of operations required to convert word1 to word2.\n",
    "def movefrom(str1, str2, m, n):\n",
    " \n",
    "    # If first string is empty, the only option is to insert all characters of second string into first\n",
    "    if m == 0:\n",
    "        return n\n",
    " \n",
    "    # If second string is empty, the only option is to remove all characters of first string\n",
    "    if n == 0:\n",
    "        return m\n",
    " \n",
    "    # If last characters of two strings are same, nothing much to do. Ignore last characters and get count for remaining strings.\n",
    "    if str1[m-1] == str2[n-1]:\n",
    "        return movefrom(str1, str2, m-1, n-1)\n",
    " \n",
    "    # If last characters are not same, consider all three operations on last character of first string, recursively\n",
    "    # compute minimum cost for all three operations and take minimum of three values.\n",
    "    return 1 + min(movefrom(str1, str2, m, n-1),    # Insert\n",
    "                   movefrom(str1, str2, m-1, n),    # Remove\n",
    "                   movefrom(str1, str2, m-1, n-1)    # Replace\n",
    "                   )\n",
    " # Driver code\n",
    "str1 = \"intention\"\n",
    "str2 = \"Exectuion\"\n",
    "print (movefrom(str1, str2, len(str1), len(str2)))\n",
    "str1 = \"horse\"\n",
    "str2 = \"ros\"\n",
    "print (movefrom(str1, str2, len(str1), len(str2)))"
   ]
  },
  {
   "cell_type": "code",
   "execution_count": 27,
   "id": "5e0e72b8-5420-473f-bab0-12bb70d20e5d",
   "metadata": {},
   "outputs": [
    {
     "name": "stdout",
     "output_type": "stream",
     "text": [
      "The max element of an array 22\n"
     ]
    }
   ],
   "source": [
    "#3 Print the max value of the array [ 13, 1, -3, 22, 5].\n",
    "def MaxOfArray(arr,n):\n",
    "    max=arr[0]\n",
    "    for i in range(1,n):\n",
    "        if arr[i]>max:\n",
    "            max=arr[i]\n",
    "    return max\n",
    "#driver code    \n",
    "arr=[13, 1, -3, 22, 5]\n",
    "n=len(arr)\n",
    "maximum=MaxOfArray(arr,n)\n",
    "print(\"The max element of an array\",maximum)"
   ]
  },
  {
   "cell_type": "code",
   "execution_count": 30,
   "id": "76c1c432-9412-4338-9657-5343903a2f88",
   "metadata": {},
   "outputs": [
    {
     "name": "stdout",
     "output_type": "stream",
     "text": [
      "The sum of an array 120\n"
     ]
    }
   ],
   "source": [
    "#Q.4 Find the sum of the values of the array [92, 23, 15, -20, 10].\n",
    "def SumOfArray(arr,n):\n",
    "    sum=0\n",
    "    for i in range(n):\n",
    "        sum+=arr[i]\n",
    "    return sum\n",
    "#driver code    \n",
    "arr=[92, 23, 15, -20, 10]\n",
    "n=len(arr)\n",
    "sumof=SumOfArray(arr,n)\n",
    "print(\"The sum of an array\",sumof)"
   ]
  },
  {
   "cell_type": "code",
   "execution_count": 40,
   "id": "e2441c7d-b26b-4858-9476-e4303dc3346b",
   "metadata": {},
   "outputs": [
    {
     "name": "stdin",
     "output_type": "stream",
     "text": [
      "Enter a number: 135\n"
     ]
    },
    {
     "name": "stdout",
     "output_type": "stream",
     "text": [
      "135 is not an Armstrong number\n"
     ]
    }
   ],
   "source": [
    "'''Q.5 Given a number n. Print if it is an armstrong number or not.An armstrong number is a number if the sum\n",
    "of every digit in that number raised to the power of total digits in that number is equal to the number.'''\n",
    "num = int(input(\"Enter a number:\"))\n",
    "sum = 0\n",
    "n1 = len(str(num))\n",
    "temp = num\n",
    "while temp > 0:\n",
    "    digit = temp % 10\n",
    "    sum += digit ** n1\n",
    "    temp //= 10\n",
    "\n",
    "if num == sum:\n",
    "    print(num,\"is an Armstrong number\")\n",
    "else:\n",
    "    print(num,\"is not an Armstrong number\")"
   ]
  },
  {
   "cell_type": "code",
   "execution_count": 42,
   "id": "49a6d411-c9cc-41d8-aa01-e34da3a2727e",
   "metadata": {},
   "outputs": [
    {
     "data": {
      "text/plain": [
       "15"
      ]
     },
     "execution_count": 42,
     "metadata": {},
     "output_type": "execute_result"
    }
   ],
   "source": [
    "153//10"
   ]
  },
  {
   "cell_type": "code",
   "execution_count": null,
   "id": "95ee9b33-85ff-4b00-968f-27fb55c8a3b0",
   "metadata": {},
   "outputs": [],
   "source": []
  }
 ],
 "metadata": {
  "kernelspec": {
   "display_name": "Python 3 (ipykernel)",
   "language": "python",
   "name": "python3"
  },
  "language_info": {
   "codemirror_mode": {
    "name": "ipython",
    "version": 3
   },
   "file_extension": ".py",
   "mimetype": "text/x-python",
   "name": "python",
   "nbconvert_exporter": "python",
   "pygments_lexer": "ipython3",
   "version": "3.10.8"
  }
 },
 "nbformat": 4,
 "nbformat_minor": 5
}
